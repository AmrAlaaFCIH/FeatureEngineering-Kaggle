{
 "cells": [
  {
   "cell_type": "markdown",
   "id": "b9aa2477",
   "metadata": {
    "papermill": {
     "duration": 0.007771,
     "end_time": "2022-06-28T19:07:13.666421",
     "exception": false,
     "start_time": "2022-06-28T19:07:13.658650",
     "status": "completed"
    },
    "tags": []
   },
   "source": [
    "**This notebook is an exercise in the [Feature Engineering](https://www.kaggle.com/learn/feature-engineering) course.  You can reference the tutorial at [this link](https://www.kaggle.com/ryanholbrook/creating-features).**\n",
    "\n",
    "---\n"
   ]
  },
  {
   "cell_type": "markdown",
   "id": "94cff662",
   "metadata": {
    "papermill": {
     "duration": 0.006073,
     "end_time": "2022-06-28T19:07:13.679442",
     "exception": false,
     "start_time": "2022-06-28T19:07:13.673369",
     "status": "completed"
    },
    "tags": []
   },
   "source": [
    "# Introduction #\n",
    "\n",
    "In this exercise you'll start developing the features you identified in Exercise 2 as having the most potential. As you work through this exercise, you might take a moment to look at the data documentation again and consider whether the features we're creating make sense from a real-world perspective, and whether there are any useful combinations that stand out to you.\n",
    "\n",
    "Run this cell to set everything up!"
   ]
  },
  {
   "cell_type": "code",
   "execution_count": 1,
   "id": "469022ce",
   "metadata": {
    "execution": {
     "iopub.execute_input": "2022-06-28T19:07:13.693936Z",
     "iopub.status.busy": "2022-06-28T19:07:13.693512Z",
     "iopub.status.idle": "2022-06-28T19:07:15.208470Z",
     "shell.execute_reply": "2022-06-28T19:07:15.207043Z"
    },
    "papermill": {
     "duration": 1.525736,
     "end_time": "2022-06-28T19:07:15.211484",
     "exception": false,
     "start_time": "2022-06-28T19:07:13.685748",
     "status": "completed"
    },
    "tags": []
   },
   "outputs": [],
   "source": [
    "# Setup feedback system\n",
    "from learntools.core import binder\n",
    "binder.bind(globals())\n",
    "from learntools.feature_engineering_new.ex3 import *\n",
    "\n",
    "import numpy as np\n",
    "import pandas as pd\n",
    "from sklearn.model_selection import cross_val_score\n",
    "from xgboost import XGBRegressor\n",
    "\n",
    "\n",
    "def score_dataset(X, y, model=XGBRegressor()):\n",
    "    # Label encoding for categoricals\n",
    "    for colname in X.select_dtypes([\"category\", \"object\"]):\n",
    "        X[colname], _ = X[colname].factorize()\n",
    "    # Metric for Housing competition is RMSLE (Root Mean Squared Log Error)\n",
    "    score = cross_val_score(\n",
    "        model, X, y, cv=5, scoring=\"neg_mean_squared_log_error\",\n",
    "    )\n",
    "    score = -1 * score.mean()\n",
    "    score = np.sqrt(score)\n",
    "    return score\n",
    "\n",
    "\n",
    "# Prepare data\n",
    "df = pd.read_csv(\"../input/fe-course-data/ames.csv\")\n",
    "X = df.copy()\n",
    "y = X.pop(\"SalePrice\")"
   ]
  },
  {
   "cell_type": "markdown",
   "id": "7f98ba0f",
   "metadata": {
    "papermill": {
     "duration": 0.006154,
     "end_time": "2022-06-28T19:07:15.224122",
     "exception": false,
     "start_time": "2022-06-28T19:07:15.217968",
     "status": "completed"
    },
    "tags": []
   },
   "source": [
    "-------------------------------------------------------------------------------\n",
    "\n",
    "Let's start with a few mathematical combinations. We'll focus on features describing areas -- having the same units (square-feet) makes it easy to combine them in sensible ways. Since we're using XGBoost (a tree-based model), we'll focus on ratios and sums.\n",
    "\n",
    "# 1) Create Mathematical Transforms\n",
    "\n",
    "Create the following features:\n",
    "\n",
    "- `LivLotRatio`: the ratio of `GrLivArea` to `LotArea`\n",
    "- `Spaciousness`: the sum of `FirstFlrSF` and `SecondFlrSF` divided by `TotRmsAbvGrd`\n",
    "- `TotalOutsideSF`: the sum of `WoodDeckSF`, `OpenPorchSF`, `EnclosedPorch`, `Threeseasonporch`, and `ScreenPorch`"
   ]
  },
  {
   "cell_type": "code",
   "execution_count": 2,
   "id": "dc2050cf",
   "metadata": {
    "execution": {
     "iopub.execute_input": "2022-06-28T19:07:15.239382Z",
     "iopub.status.busy": "2022-06-28T19:07:15.238728Z",
     "iopub.status.idle": "2022-06-28T19:07:15.263638Z",
     "shell.execute_reply": "2022-06-28T19:07:15.262497Z"
    },
    "lines_to_next_cell": 0,
    "papermill": {
     "duration": 0.035399,
     "end_time": "2022-06-28T19:07:15.265954",
     "exception": false,
     "start_time": "2022-06-28T19:07:15.230555",
     "status": "completed"
    },
    "tags": []
   },
   "outputs": [
    {
     "data": {
      "application/javascript": [
       "parent.postMessage({\"jupyterEvent\": \"custom.exercise_interaction\", \"data\": {\"outcomeType\": 1, \"valueTowardsCompletion\": 0.2, \"interactionType\": 1, \"questionType\": 2, \"questionId\": \"1_Q1\", \"learnToolsVersion\": \"0.3.4\", \"failureMessage\": \"\", \"exceptionClass\": \"\", \"trace\": \"\"}}, \"*\")"
      ],
      "text/plain": [
       "<IPython.core.display.Javascript object>"
      ]
     },
     "metadata": {},
     "output_type": "display_data"
    },
    {
     "data": {
      "text/markdown": [
       "<span style=\"color:#33cc33\">Correct</span>"
      ],
      "text/plain": [
       "Correct"
      ]
     },
     "metadata": {},
     "output_type": "display_data"
    }
   ],
   "source": [
    "# YOUR CODE HERE\n",
    "X_1 = pd.DataFrame()  # dataframe to hold new features\n",
    "\n",
    "X_1[\"LivLotRatio\"] = df.GrLivArea / df.LotArea\n",
    "X_1[\"Spaciousness\"] = (df.FirstFlrSF + df.SecondFlrSF) / df.TotRmsAbvGrd\n",
    "X_1[\"TotalOutsideSF\"] = df.WoodDeckSF + df.OpenPorchSF + df.EnclosedPorch + df.Threeseasonporch + df.ScreenPorch\n",
    "\n",
    "\n",
    "# Check your answer\n",
    "q_1.check()"
   ]
  },
  {
   "cell_type": "code",
   "execution_count": 3,
   "id": "c24f2927",
   "metadata": {
    "execution": {
     "iopub.execute_input": "2022-06-28T19:07:15.281031Z",
     "iopub.status.busy": "2022-06-28T19:07:15.280654Z",
     "iopub.status.idle": "2022-06-28T19:07:15.285360Z",
     "shell.execute_reply": "2022-06-28T19:07:15.284179Z"
    },
    "lines_to_next_cell": 0,
    "papermill": {
     "duration": 0.015124,
     "end_time": "2022-06-28T19:07:15.287717",
     "exception": false,
     "start_time": "2022-06-28T19:07:15.272593",
     "status": "completed"
    },
    "tags": []
   },
   "outputs": [],
   "source": [
    "# Lines below will give you a hint or solution code\n",
    "#q_1.hint()\n",
    "#q_1.solution()"
   ]
  },
  {
   "cell_type": "markdown",
   "id": "430bb4c7",
   "metadata": {
    "papermill": {
     "duration": 0.006947,
     "end_time": "2022-06-28T19:07:15.301825",
     "exception": false,
     "start_time": "2022-06-28T19:07:15.294878",
     "status": "completed"
    },
    "tags": []
   },
   "source": [
    "-------------------------------------------------------------------------------\n",
    "\n",
    "If you've discovered an interaction effect between a numeric feature and a categorical feature, you might want to model it explicitly using a one-hot encoding, like so:\n",
    "\n",
    "```\n",
    "# One-hot encode Categorical feature, adding a column prefix \"Cat\"\n",
    "X_new = pd.get_dummies(df.Categorical, prefix=\"Cat\")\n",
    "\n",
    "# Multiply row-by-row\n",
    "X_new = X_new.mul(df.Continuous, axis=0)\n",
    "\n",
    "# Join the new features to the feature set\n",
    "X = X.join(X_new)\n",
    "```\n",
    "\n",
    "# 2) Interaction with a Categorical\n",
    "\n",
    "We discovered an interaction between `BldgType` and `GrLivArea` in Exercise 2. Now create their interaction features."
   ]
  },
  {
   "cell_type": "code",
   "execution_count": 4,
   "id": "7d7844cd",
   "metadata": {
    "execution": {
     "iopub.execute_input": "2022-06-28T19:07:15.317256Z",
     "iopub.status.busy": "2022-06-28T19:07:15.316507Z",
     "iopub.status.idle": "2022-06-28T19:07:15.330775Z",
     "shell.execute_reply": "2022-06-28T19:07:15.329544Z"
    },
    "lines_to_next_cell": 0,
    "papermill": {
     "duration": 0.024903,
     "end_time": "2022-06-28T19:07:15.333282",
     "exception": false,
     "start_time": "2022-06-28T19:07:15.308379",
     "status": "completed"
    },
    "tags": []
   },
   "outputs": [
    {
     "data": {
      "application/javascript": [
       "parent.postMessage({\"jupyterEvent\": \"custom.exercise_interaction\", \"data\": {\"outcomeType\": 1, \"valueTowardsCompletion\": 0.2, \"interactionType\": 1, \"questionType\": 2, \"questionId\": \"2_Q2\", \"learnToolsVersion\": \"0.3.4\", \"failureMessage\": \"\", \"exceptionClass\": \"\", \"trace\": \"\"}}, \"*\")"
      ],
      "text/plain": [
       "<IPython.core.display.Javascript object>"
      ]
     },
     "metadata": {},
     "output_type": "display_data"
    },
    {
     "data": {
      "text/markdown": [
       "<span style=\"color:#33cc33\">Correct</span>"
      ],
      "text/plain": [
       "Correct"
      ]
     },
     "metadata": {},
     "output_type": "display_data"
    }
   ],
   "source": [
    "# YOUR CODE HERE\n",
    "# One-hot encode BldgType. Use `prefix=\"Bldg\"` in `get_dummies`\n",
    "X_2 = pd.get_dummies(df.BldgType, prefix=\"Bldg\")\n",
    "X_2 = X_2.mul(df.GrLivArea, axis=0)\n",
    "\n",
    "\n",
    "# Check your answer\n",
    "q_2.check()"
   ]
  },
  {
   "cell_type": "code",
   "execution_count": 5,
   "id": "ab4e1eeb",
   "metadata": {
    "execution": {
     "iopub.execute_input": "2022-06-28T19:07:15.349200Z",
     "iopub.status.busy": "2022-06-28T19:07:15.348762Z",
     "iopub.status.idle": "2022-06-28T19:07:15.353727Z",
     "shell.execute_reply": "2022-06-28T19:07:15.352575Z"
    },
    "lines_to_next_cell": 0,
    "papermill": {
     "duration": 0.015436,
     "end_time": "2022-06-28T19:07:15.356022",
     "exception": false,
     "start_time": "2022-06-28T19:07:15.340586",
     "status": "completed"
    },
    "tags": []
   },
   "outputs": [],
   "source": [
    "# Lines below will give you a hint or solution code\n",
    "#q_2.hint()\n",
    "#q_2.solution()"
   ]
  },
  {
   "cell_type": "markdown",
   "id": "4e4eb94d",
   "metadata": {
    "lines_to_next_cell": 0,
    "papermill": {
     "duration": 0.007034,
     "end_time": "2022-06-28T19:07:15.370023",
     "exception": false,
     "start_time": "2022-06-28T19:07:15.362989",
     "status": "completed"
    },
    "tags": []
   },
   "source": [
    "# 3) Count Feature\n",
    "\n",
    "Let's try creating a feature that describes how many kinds of outdoor areas a dwelling has. Create a feature `PorchTypes` that counts how many of the following are greater than 0.0:\n",
    "\n",
    "```\n",
    "WoodDeckSF\n",
    "OpenPorchSF\n",
    "EnclosedPorch\n",
    "Threeseasonporch\n",
    "ScreenPorch\n",
    "```"
   ]
  },
  {
   "cell_type": "code",
   "execution_count": 6,
   "id": "c8045d71",
   "metadata": {
    "execution": {
     "iopub.execute_input": "2022-06-28T19:07:15.386430Z",
     "iopub.status.busy": "2022-06-28T19:07:15.385286Z",
     "iopub.status.idle": "2022-06-28T19:07:15.404143Z",
     "shell.execute_reply": "2022-06-28T19:07:15.403328Z"
    },
    "lines_to_next_cell": 0,
    "papermill": {
     "duration": 0.02901,
     "end_time": "2022-06-28T19:07:15.406235",
     "exception": false,
     "start_time": "2022-06-28T19:07:15.377225",
     "status": "completed"
    },
    "tags": []
   },
   "outputs": [
    {
     "data": {
      "application/javascript": [
       "parent.postMessage({\"jupyterEvent\": \"custom.exercise_interaction\", \"data\": {\"outcomeType\": 1, \"valueTowardsCompletion\": 0.2, \"interactionType\": 1, \"questionType\": 2, \"questionId\": \"3_Q3\", \"learnToolsVersion\": \"0.3.4\", \"failureMessage\": \"\", \"exceptionClass\": \"\", \"trace\": \"\"}}, \"*\")"
      ],
      "text/plain": [
       "<IPython.core.display.Javascript object>"
      ]
     },
     "metadata": {},
     "output_type": "display_data"
    },
    {
     "data": {
      "text/markdown": [
       "<span style=\"color:#33cc33\">Correct</span>"
      ],
      "text/plain": [
       "Correct"
      ]
     },
     "metadata": {},
     "output_type": "display_data"
    }
   ],
   "source": [
    "X_3 = pd.DataFrame()\n",
    "\n",
    "# YOUR CODE HERE\n",
    "X_3 = pd.DataFrame()\n",
    "\n",
    "X_3[\"PorchTypes\"] = df[[\n",
    "    \"WoodDeckSF\",\n",
    "    \"OpenPorchSF\",\n",
    "    \"EnclosedPorch\",\n",
    "    \"Threeseasonporch\",\n",
    "    \"ScreenPorch\",\n",
    "]].gt(0.0).sum(axis=1)\n",
    "\n",
    "\n",
    "# Check your answer\n",
    "q_3.check()"
   ]
  },
  {
   "cell_type": "code",
   "execution_count": 7,
   "id": "576b335c",
   "metadata": {
    "execution": {
     "iopub.execute_input": "2022-06-28T19:07:15.422528Z",
     "iopub.status.busy": "2022-06-28T19:07:15.421792Z",
     "iopub.status.idle": "2022-06-28T19:07:15.425797Z",
     "shell.execute_reply": "2022-06-28T19:07:15.424961Z"
    },
    "lines_to_next_cell": 0,
    "papermill": {
     "duration": 0.014797,
     "end_time": "2022-06-28T19:07:15.428043",
     "exception": false,
     "start_time": "2022-06-28T19:07:15.413246",
     "status": "completed"
    },
    "tags": []
   },
   "outputs": [],
   "source": [
    "# Lines below will give you a hint or solution code\n",
    "#q_3.hint()\n",
    "#q_3.solution()"
   ]
  },
  {
   "cell_type": "markdown",
   "id": "65d01802",
   "metadata": {
    "papermill": {
     "duration": 0.007291,
     "end_time": "2022-06-28T19:07:15.442510",
     "exception": false,
     "start_time": "2022-06-28T19:07:15.435219",
     "status": "completed"
    },
    "tags": []
   },
   "source": [
    "# 4) Break Down a Categorical Feature\n",
    "\n",
    "`MSSubClass` describes the type of a dwelling:"
   ]
  },
  {
   "cell_type": "code",
   "execution_count": 8,
   "id": "bfa1cc66",
   "metadata": {
    "execution": {
     "iopub.execute_input": "2022-06-28T19:07:15.459094Z",
     "iopub.status.busy": "2022-06-28T19:07:15.457933Z",
     "iopub.status.idle": "2022-06-28T19:07:15.467315Z",
     "shell.execute_reply": "2022-06-28T19:07:15.465987Z"
    },
    "papermill": {
     "duration": 0.020503,
     "end_time": "2022-06-28T19:07:15.470016",
     "exception": false,
     "start_time": "2022-06-28T19:07:15.449513",
     "status": "completed"
    },
    "tags": []
   },
   "outputs": [
    {
     "data": {
      "text/plain": [
       "array(['One_Story_1946_and_Newer_All_Styles', 'Two_Story_1946_and_Newer',\n",
       "       'One_Story_PUD_1946_and_Newer',\n",
       "       'One_and_Half_Story_Finished_All_Ages', 'Split_Foyer',\n",
       "       'Two_Story_PUD_1946_and_Newer', 'Split_or_Multilevel',\n",
       "       'One_Story_1945_and_Older', 'Duplex_All_Styles_and_Ages',\n",
       "       'Two_Family_conversion_All_Styles_and_Ages',\n",
       "       'One_and_Half_Story_Unfinished_All_Ages',\n",
       "       'Two_Story_1945_and_Older', 'Two_and_Half_Story_All_Ages',\n",
       "       'One_Story_with_Finished_Attic_All_Ages',\n",
       "       'PUD_Multilevel_Split_Level_Foyer',\n",
       "       'One_and_Half_Story_PUD_All_Ages'], dtype=object)"
      ]
     },
     "execution_count": 8,
     "metadata": {},
     "output_type": "execute_result"
    }
   ],
   "source": [
    "df.MSSubClass.unique()"
   ]
  },
  {
   "cell_type": "markdown",
   "id": "381f0413",
   "metadata": {
    "papermill": {
     "duration": 0.007897,
     "end_time": "2022-06-28T19:07:15.485450",
     "exception": false,
     "start_time": "2022-06-28T19:07:15.477553",
     "status": "completed"
    },
    "tags": []
   },
   "source": [
    "You can see that there is a more general categorization described (roughly) by the first word of each category. Create a feature containing only these first words by splitting `MSSubClass` at the first underscore `_`. (Hint: In the `split` method use an argument `n=1`.)"
   ]
  },
  {
   "cell_type": "code",
   "execution_count": 9,
   "id": "dad87e92",
   "metadata": {
    "execution": {
     "iopub.execute_input": "2022-06-28T19:07:15.502942Z",
     "iopub.status.busy": "2022-06-28T19:07:15.502175Z",
     "iopub.status.idle": "2022-06-28T19:07:15.530363Z",
     "shell.execute_reply": "2022-06-28T19:07:15.529255Z"
    },
    "lines_to_next_cell": 0,
    "papermill": {
     "duration": 0.039568,
     "end_time": "2022-06-28T19:07:15.532630",
     "exception": false,
     "start_time": "2022-06-28T19:07:15.493062",
     "status": "completed"
    },
    "tags": []
   },
   "outputs": [
    {
     "data": {
      "application/javascript": [
       "parent.postMessage({\"jupyterEvent\": \"custom.exercise_interaction\", \"data\": {\"outcomeType\": 1, \"valueTowardsCompletion\": 0.2, \"interactionType\": 1, \"questionType\": 2, \"questionId\": \"4_Q4\", \"learnToolsVersion\": \"0.3.4\", \"failureMessage\": \"\", \"exceptionClass\": \"\", \"trace\": \"\"}}, \"*\")"
      ],
      "text/plain": [
       "<IPython.core.display.Javascript object>"
      ]
     },
     "metadata": {},
     "output_type": "display_data"
    },
    {
     "data": {
      "text/markdown": [
       "<span style=\"color:#33cc33\">Correct</span>"
      ],
      "text/plain": [
       "Correct"
      ]
     },
     "metadata": {},
     "output_type": "display_data"
    }
   ],
   "source": [
    "X_4 = pd.DataFrame()\n",
    "\n",
    "# YOUR CODE HERE\n",
    "X_4 = pd.DataFrame()\n",
    "\n",
    "X_4[\"MSClass\"] = df.MSSubClass.str.split(\"_\", n=1, expand=True)[0]\n",
    "\n",
    "# Check your answer\n",
    "q_4.check()"
   ]
  },
  {
   "cell_type": "code",
   "execution_count": 10,
   "id": "1582194d",
   "metadata": {
    "execution": {
     "iopub.execute_input": "2022-06-28T19:07:15.549742Z",
     "iopub.status.busy": "2022-06-28T19:07:15.549344Z",
     "iopub.status.idle": "2022-06-28T19:07:15.554142Z",
     "shell.execute_reply": "2022-06-28T19:07:15.552736Z"
    },
    "lines_to_next_cell": 0,
    "papermill": {
     "duration": 0.016022,
     "end_time": "2022-06-28T19:07:15.556731",
     "exception": false,
     "start_time": "2022-06-28T19:07:15.540709",
     "status": "completed"
    },
    "tags": []
   },
   "outputs": [],
   "source": [
    "# Lines below will give you a hint or solution code\n",
    "#q_4.hint()\n",
    "#q_4.solution()"
   ]
  },
  {
   "cell_type": "markdown",
   "id": "147e9b98",
   "metadata": {
    "papermill": {
     "duration": 0.007251,
     "end_time": "2022-06-28T19:07:15.571542",
     "exception": false,
     "start_time": "2022-06-28T19:07:15.564291",
     "status": "completed"
    },
    "tags": []
   },
   "source": [
    "# 5) Use a Grouped Transform\n",
    "\n",
    "The value of a home often depends on how it compares to typical homes in its neighborhood. Create a feature `MedNhbdArea` that describes the *median* of `GrLivArea` grouped on `Neighborhood`."
   ]
  },
  {
   "cell_type": "code",
   "execution_count": 11,
   "id": "c930eee9",
   "metadata": {
    "execution": {
     "iopub.execute_input": "2022-06-28T19:07:15.589392Z",
     "iopub.status.busy": "2022-06-28T19:07:15.588632Z",
     "iopub.status.idle": "2022-06-28T19:07:15.609621Z",
     "shell.execute_reply": "2022-06-28T19:07:15.608328Z"
    },
    "lines_to_next_cell": 0,
    "papermill": {
     "duration": 0.032725,
     "end_time": "2022-06-28T19:07:15.612195",
     "exception": false,
     "start_time": "2022-06-28T19:07:15.579470",
     "status": "completed"
    },
    "tags": []
   },
   "outputs": [
    {
     "data": {
      "application/javascript": [
       "parent.postMessage({\"jupyterEvent\": \"custom.exercise_interaction\", \"data\": {\"outcomeType\": 1, \"valueTowardsCompletion\": 0.2, \"interactionType\": 1, \"questionType\": 2, \"questionId\": \"5_Q5\", \"learnToolsVersion\": \"0.3.4\", \"failureMessage\": \"\", \"exceptionClass\": \"\", \"trace\": \"\"}}, \"*\")"
      ],
      "text/plain": [
       "<IPython.core.display.Javascript object>"
      ]
     },
     "metadata": {},
     "output_type": "display_data"
    },
    {
     "data": {
      "text/markdown": [
       "<span style=\"color:#33cc33\">Correct</span>"
      ],
      "text/plain": [
       "Correct"
      ]
     },
     "metadata": {},
     "output_type": "display_data"
    }
   ],
   "source": [
    "X_5 = pd.DataFrame()\n",
    "\n",
    "# YOUR CODE HERE\n",
    "X_5 = pd.DataFrame()\n",
    "\n",
    "X_5[\"MedNhbdArea\"] = df.groupby(\"Neighborhood\")[\"GrLivArea\"].transform(\"median\")\n",
    "\n",
    "# Check your answer\n",
    "q_5.check()"
   ]
  },
  {
   "cell_type": "code",
   "execution_count": 12,
   "id": "bfecd816",
   "metadata": {
    "execution": {
     "iopub.execute_input": "2022-06-28T19:07:15.629700Z",
     "iopub.status.busy": "2022-06-28T19:07:15.629313Z",
     "iopub.status.idle": "2022-06-28T19:07:15.634473Z",
     "shell.execute_reply": "2022-06-28T19:07:15.633449Z"
    },
    "lines_to_next_cell": 0,
    "papermill": {
     "duration": 0.016949,
     "end_time": "2022-06-28T19:07:15.636937",
     "exception": false,
     "start_time": "2022-06-28T19:07:15.619988",
     "status": "completed"
    },
    "tags": []
   },
   "outputs": [],
   "source": [
    "# Lines below will give you a hint or solution code\n",
    "#q_5.hint()\n",
    "#q_5.solution()"
   ]
  },
  {
   "cell_type": "markdown",
   "id": "a447fb27",
   "metadata": {
    "papermill": {
     "duration": 0.008087,
     "end_time": "2022-06-28T19:07:15.653022",
     "exception": false,
     "start_time": "2022-06-28T19:07:15.644935",
     "status": "completed"
    },
    "tags": []
   },
   "source": [
    "Now you've made your first new feature set! If you like, you can run the cell below to score the model with all of your new features added:"
   ]
  },
  {
   "cell_type": "code",
   "execution_count": 13,
   "id": "60ece282",
   "metadata": {
    "execution": {
     "iopub.execute_input": "2022-06-28T19:07:15.670846Z",
     "iopub.status.busy": "2022-06-28T19:07:15.669888Z",
     "iopub.status.idle": "2022-06-28T19:07:20.503314Z",
     "shell.execute_reply": "2022-06-28T19:07:20.502119Z"
    },
    "papermill": {
     "duration": 4.846285,
     "end_time": "2022-06-28T19:07:20.507219",
     "exception": false,
     "start_time": "2022-06-28T19:07:15.660934",
     "status": "completed"
    },
    "tags": []
   },
   "outputs": [
    {
     "data": {
      "text/plain": [
       "0.13847331710099203"
      ]
     },
     "execution_count": 13,
     "metadata": {},
     "output_type": "execute_result"
    }
   ],
   "source": [
    "X_new = X.join([X_1, X_2, X_3, X_4, X_5])\n",
    "score_dataset(X_new, y)"
   ]
  },
  {
   "cell_type": "markdown",
   "id": "59fc652f",
   "metadata": {
    "papermill": {
     "duration": 0.007833,
     "end_time": "2022-06-28T19:07:20.523951",
     "exception": false,
     "start_time": "2022-06-28T19:07:20.516118",
     "status": "completed"
    },
    "tags": []
   },
   "source": [
    "# Keep Going #\n",
    "\n",
    "[**Untangle spatial relationships**](https://www.kaggle.com/ryanholbrook/clustering-with-k-means) by adding cluster labels to your dataset."
   ]
  },
  {
   "cell_type": "markdown",
   "id": "f1ac26b8",
   "metadata": {
    "papermill": {
     "duration": 0.007723,
     "end_time": "2022-06-28T19:07:20.539696",
     "exception": false,
     "start_time": "2022-06-28T19:07:20.531973",
     "status": "completed"
    },
    "tags": []
   },
   "source": [
    "---\n",
    "\n",
    "\n",
    "\n",
    "\n",
    "*Have questions or comments? Visit the [course discussion forum](https://www.kaggle.com/learn/feature-engineering/discussion) to chat with other learners.*"
   ]
  }
 ],
 "metadata": {
  "kernelspec": {
   "display_name": "Python 3",
   "language": "python",
   "name": "python3"
  },
  "language_info": {
   "codemirror_mode": {
    "name": "ipython",
    "version": 3
   },
   "file_extension": ".py",
   "mimetype": "text/x-python",
   "name": "python",
   "nbconvert_exporter": "python",
   "pygments_lexer": "ipython3",
   "version": "3.7.12"
  },
  "papermill": {
   "default_parameters": {},
   "duration": 17.962468,
   "end_time": "2022-06-28T19:07:21.270061",
   "environment_variables": {},
   "exception": null,
   "input_path": "__notebook__.ipynb",
   "output_path": "__notebook__.ipynb",
   "parameters": {},
   "start_time": "2022-06-28T19:07:03.307593",
   "version": "2.3.4"
  }
 },
 "nbformat": 4,
 "nbformat_minor": 5
}
